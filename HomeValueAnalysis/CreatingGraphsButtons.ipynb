{
 "cells": [
  {
   "cell_type": "code",
   "execution_count": 1,
   "id": "b01d7ffa",
   "metadata": {},
   "outputs": [
    {
     "ename": "NameError",
     "evalue": "name 'list_prices' is not defined",
     "output_type": "error",
     "traceback": [
      "\u001b[0;31m---------------------------------------------------------------------------\u001b[0m",
      "\u001b[0;31mNameError\u001b[0m                                 Traceback (most recent call last)",
      "Input \u001b[0;32mIn [1]\u001b[0m, in \u001b[0;36m<module>\u001b[0;34m\u001b[0m\n\u001b[0;32m----> 1\u001b[0m data \u001b[38;5;241m=\u001b[39m \u001b[43mlist_prices\u001b[49m\n\u001b[1;32m      4\u001b[0m plot \u001b[38;5;241m=\u001b[39m go\u001b[38;5;241m.\u001b[39mFigure(data\u001b[38;5;241m=\u001b[39m[go\u001b[38;5;241m.\u001b[39mScatter(\n\u001b[1;32m      5\u001b[0m \tx\u001b[38;5;241m=\u001b[39mdata[\u001b[38;5;124m'\u001b[39m\u001b[38;5;124mStateName\u001b[39m\u001b[38;5;124m'\u001b[39m],\n\u001b[1;32m      6\u001b[0m \ty\u001b[38;5;241m=\u001b[39mdata[\u001b[38;5;124m'\u001b[39m\u001b[38;5;124mListPrice\u001b[39m\u001b[38;5;124m'\u001b[39m],\n\u001b[1;32m      7\u001b[0m \tmode\u001b[38;5;241m=\u001b[39m\u001b[38;5;124m'\u001b[39m\u001b[38;5;124mmarkers\u001b[39m\u001b[38;5;124m'\u001b[39m)\n\u001b[1;32m      8\u001b[0m ])\n\u001b[1;32m     10\u001b[0m \u001b[38;5;66;03m# Add dropdown\u001b[39;00m\n",
      "\u001b[0;31mNameError\u001b[0m: name 'list_prices' is not defined"
     ]
    }
   ],
   "source": [
    "data = list_prices\n",
    "\n",
    "\n",
    "plot = go.Figure(data=[go.Scatter(\n",
    "\tx=data['StateName'],\n",
    "\ty=data['ListPrice'],\n",
    "\tmode='markers')\n",
    "])\n",
    "\n",
    "# Add dropdown\n",
    "plot.update_layout(\n",
    "\tupdatemenus=[\n",
    "\t\tdict(\n",
    "\t\t\ttype=\"buttons\",\n",
    "\t\t\tdirection=\"up\",\n",
    "\t\t\tbuttons=list([\n",
    "\t\t\t\tdict(\n",
    "\t\t\t\t\targs=[\"type\", \"scatter\"],\n",
    "\t\t\t\t\tlabel=\"Scatter Plot\",\n",
    "\t\t\t\t\tmethod=\"restyle\"\n",
    "\t\t\t\t),\n",
    "\t\t\t\tdict(\n",
    "\t\t\t\t\targs=[\"type\", \"box\"],\n",
    "\t\t\t\t\tlabel=\"Box Plot\",\n",
    "\t\t\t\t\tmethod=\"restyle\"\n",
    "\t\t\t\t)\n",
    "\t\t\t]),\n",
    "\t\t),\n",
    "\t]\n",
    ")\n",
    "\n",
    "plot.update_xaxes(tickmode='linear')\n",
    "plot.update_layout(title_text = \"Median Listing Prices For Homes In USA\")\n",
    "plot.show()\n",
    "\n"
   ]
  },
  {
   "cell_type": "code",
   "execution_count": null,
   "id": "4e8064bd",
   "metadata": {},
   "outputs": [],
   "source": []
  }
 ],
 "metadata": {
  "kernelspec": {
   "display_name": "Python 3 (ipykernel)",
   "language": "python",
   "name": "python3"
  },
  "language_info": {
   "codemirror_mode": {
    "name": "ipython",
    "version": 3
   },
   "file_extension": ".py",
   "mimetype": "text/x-python",
   "name": "python",
   "nbconvert_exporter": "python",
   "pygments_lexer": "ipython3",
   "version": "3.9.9"
  }
 },
 "nbformat": 4,
 "nbformat_minor": 5
}
